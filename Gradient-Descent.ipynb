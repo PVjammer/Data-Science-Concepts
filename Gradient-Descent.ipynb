{
 "cells": [
  {
   "cell_type": "markdown",
   "metadata": {},
   "source": [
    "# Intro to Stochastic Gradient Descent\n",
    "\n",
    "### Outline\n",
    "1. [Overview](#Overview)\n",
    "2. [Optimization](#Optimization)\n",
    "3. [Gradient Descent](#Gradient-Descent)\n",
    "4. [Use in Machine Learning](#Use-In-Machine-Learning)\n",
    "5. [Example (Logistic Regression)](#Example-(Logistic-Regression))\n",
    "\n",
    "\n",
    "\n",
    "## Overview\n",
    "\n",
    "Stochastic gradient descent is an iterative form of gradient descent which is used to optimize an objective function which is the sum of differentiable functions.\n",
    "\n",
    "## Optimization\n",
    "\n",
    "Optimization problems typically have the form: \n",
    "\n",
    "\n",
    "## Gradient Descent\n",
    "\n",
    "\n",
    "## Use In Machine Learning\n",
    "\n",
    "\n",
    "## Example (Logistic Regression)"
   ]
  },
  {
   "cell_type": "markdown",
   "metadata": {},
   "source": []
  },
  {
   "cell_type": "markdown",
   "metadata": {},
   "source": []
  },
  {
   "cell_type": "code",
   "execution_count": null,
   "metadata": {
    "collapsed": true
   },
   "outputs": [],
   "source": []
  }
 ],
 "metadata": {
  "kernelspec": {
   "display_name": "Python 2",
   "language": "python",
   "name": "python2"
  },
  "language_info": {
   "codemirror_mode": {
    "name": "ipython",
    "version": 2
   },
   "file_extension": ".py",
   "mimetype": "text/x-python",
   "name": "python",
   "nbconvert_exporter": "python",
   "pygments_lexer": "ipython2",
   "version": "2.7.14"
  }
 },
 "nbformat": 4,
 "nbformat_minor": 2
}
